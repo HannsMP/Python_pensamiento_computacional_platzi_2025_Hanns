{
 "cells": [
  {
   "cell_type": "code",
   "execution_count": 2,
   "metadata": {},
   "outputs": [],
   "source": [
    "def rango(start: float, end: float | None = None, step: float = 1):\n",
    "    if step == 0:\n",
    "        raise ValueError(\"El step no puede ser 0\")\n",
    "\n",
    "    if end is None:\n",
    "        end = start\n",
    "        start = 0\n",
    "\n",
    "    if start < end and step < 0:\n",
    "        raise ValueError(\"El step es negativo y necesita ser un incrementador\")\n",
    "\n",
    "    if start > end and step > 0:\n",
    "        raise ValueError(\"El step es positivo y necesita ser un decrementador\")\n",
    "\n",
    "    while start != end:\n",
    "        yield start\n",
    "        start += step"
   ]
  },
  {
   "cell_type": "code",
   "execution_count": 11,
   "metadata": {},
   "outputs": [],
   "source": [
    "for i in range(0, 100, -5):\n",
    "    print(i)"
   ]
  }
 ],
 "metadata": {
  "kernelspec": {
   "display_name": "Python 3",
   "language": "python",
   "name": "python3"
  },
  "language_info": {
   "codemirror_mode": {
    "name": "ipython",
    "version": 3
   },
   "file_extension": ".py",
   "mimetype": "text/x-python",
   "name": "python",
   "nbconvert_exporter": "python",
   "pygments_lexer": "ipython3",
   "version": "3.11.0"
  }
 },
 "nbformat": 4,
 "nbformat_minor": 2
}
