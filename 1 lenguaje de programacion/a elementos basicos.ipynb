{
 "cells": [
  {
   "cell_type": "markdown",
   "metadata": {},
   "source": [
    "- alto nivel: esta diseñado para humanos\n",
    "- bajo nivel: esta optimizado para que la maquina pueda entenderlo\n",
    "\n",
    "- general: tiene todos los primitivos de turing para implementar y computar cualquier tipo de algoritmo\n",
    "- dominio especifico: estan targetiado a aplicaciones muy especificas\n",
    "\n",
    "- interpretados: en tiempo de ejecucion, despues de cada instruccion se traduce a lenguaje maquina\n",
    "- compilado: combertimo antes el lenguaje de programacion a leguaje maquina\n",
    "\n",
    "python\n",
    "- alto nivel\n",
    "- general\n",
    "- interpretado"
   ]
  },
  {
   "cell_type": "code",
   "execution_count": 32,
   "metadata": {},
   "outputs": [],
   "source": [
    "# <literales> = 1, 'abc', 2.0, True\n",
    "# <operadores> = + / * % ** = ==\n",
    "# <literal> <operador> <literal>"
   ]
  },
  {
   "cell_type": "code",
   "execution_count": 33,
   "metadata": {},
   "outputs": [
    {
     "data": {
      "text/plain": [
       "3"
      ]
     },
     "execution_count": 33,
     "metadata": {},
     "output_type": "execute_result"
    }
   ],
   "source": [
    "1 + 2"
   ]
  },
  {
   "cell_type": "code",
   "execution_count": 34,
   "metadata": {},
   "outputs": [
    {
     "data": {
      "text/plain": [
       "4.0"
      ]
     },
     "execution_count": 34,
     "metadata": {},
     "output_type": "execute_result"
    }
   ],
   "source": [
    "1 + 3."
   ]
  },
  {
   "cell_type": "code",
   "execution_count": 35,
   "metadata": {},
   "outputs": [
    {
     "data": {
      "text/plain": [
       "'PlatziPlatziPlatziPlatziPlatzi'"
      ]
     },
     "execution_count": 35,
     "metadata": {},
     "output_type": "execute_result"
    }
   ],
   "source": [
    "5 * 'Platzi'"
   ]
  },
  {
   "cell_type": "code",
   "execution_count": 36,
   "metadata": {},
   "outputs": [
    {
     "data": {
      "text/plain": [
       "\" \\n---------------------------------------------------------------------------\\nTypeError                                 Traceback (most recent call last)\\nCell In[21], line 1\\n----> 1 5 / 'Platzi'\\n\\nTypeError: unsupported operand type(s) for /: 'int' and 'str'\\n\""
      ]
     },
     "execution_count": 36,
     "metadata": {},
     "output_type": "execute_result"
    }
   ],
   "source": [
    "# 5 / 'Platzi'\n",
    "\n",
    "\"\"\" \n",
    "---------------------------------------------------------------------------\n",
    "TypeError                                 Traceback (most recent call last)\n",
    "Cell In[21], line 1\n",
    "----> 1 5 / 'Platzi'\n",
    "\n",
    "TypeError: unsupported operand type(s) for /: 'int' and 'str'\n",
    "\"\"\""
   ]
  },
  {
   "cell_type": "markdown",
   "metadata": {},
   "source": [
    "# print statement"
   ]
  },
  {
   "cell_type": "code",
   "execution_count": 37,
   "metadata": {},
   "outputs": [
    {
     "name": "stdout",
     "output_type": "stream",
     "text": [
      "hola mundo\n"
     ]
    }
   ],
   "source": [
    "print('hola mundo')"
   ]
  },
  {
   "cell_type": "code",
   "execution_count": 38,
   "metadata": {},
   "outputs": [],
   "source": [
    "# Objetos\n",
    "# tipos\n",
    "# escalares(subdividir) vs no escalares(no se puede subdividir)"
   ]
  },
  {
   "cell_type": "code",
   "execution_count": 39,
   "metadata": {},
   "outputs": [
    {
     "data": {
      "text/plain": [
       "'platzirocks!'"
      ]
     },
     "execution_count": 39,
     "metadata": {},
     "output_type": "execute_result"
    }
   ],
   "source": [
    "'platzi' + 'rocks!'"
   ]
  },
  {
   "cell_type": "code",
   "execution_count": 40,
   "metadata": {},
   "outputs": [
    {
     "data": {
      "text/plain": [
       "4"
      ]
     },
     "execution_count": 40,
     "metadata": {},
     "output_type": "execute_result"
    }
   ],
   "source": [
    "2 + 2"
   ]
  },
  {
   "cell_type": "code",
   "execution_count": 41,
   "metadata": {},
   "outputs": [
    {
     "data": {
      "text/plain": [
       "\" \\n---------------------------------------------------------------------------\\nNameError                                 Traceback (most recent call last)\\nCell In[31], line 1\\n----> 1 persona + persona\\n\\nNameError: name 'persona' is not defined\\n\""
      ]
     },
     "execution_count": 41,
     "metadata": {},
     "output_type": "execute_result"
    }
   ],
   "source": [
    "# persona + persona\n",
    "\n",
    "\"\"\" \n",
    "---------------------------------------------------------------------------\n",
    "NameError                                 Traceback (most recent call last)\n",
    "Cell In[31], line 1\n",
    "----> 1 persona + persona\n",
    "\n",
    "NameError: name 'persona' is not defined\n",
    "\"\"\""
   ]
  },
  {
   "cell_type": "code",
   "execution_count": 42,
   "metadata": {},
   "outputs": [
    {
     "name": "stdout",
     "output_type": "stream",
     "text": [
      "<class 'int'>\n",
      "<class 'float'>\n",
      "<class 'bool'>\n",
      "<class 'NoneType'>\n"
     ]
    }
   ],
   "source": [
    "print(type(1))\n",
    "print(type(1.))\n",
    "print(type(False))\n",
    "print(type(None))"
   ]
  },
  {
   "cell_type": "code",
   "execution_count": 43,
   "metadata": {},
   "outputs": [
    {
     "name": "stdout",
     "output_type": "stream",
     "text": [
      "3\n",
      "-3\n",
      "6\n",
      "6.0\n",
      "3\n",
      "1\n",
      "1.5\n",
      "1\n",
      "8\n",
      "True\n",
      "True\n"
     ]
    }
   ],
   "source": [
    "print(1 + 2)\n",
    "print(2 - 5)\n",
    "print(2 * 3)\n",
    "print(2.0 * 3)\n",
    "print(6 // 2)\n",
    "print(6 // 4)\n",
    "print(6 / 4)\n",
    "print(7 % 2)\n",
    "print(2 ** 3)\n",
    "\n",
    "print((2 * 3) == (2.0 * 3))\n",
    "print(6 == 6.)"
   ]
  },
  {
   "cell_type": "code",
   "execution_count": 45,
   "metadata": {},
   "outputs": [
    {
     "data": {
      "text/plain": [
       "6"
      ]
     },
     "execution_count": 45,
     "metadata": {},
     "output_type": "execute_result"
    }
   ],
   "source": [
    "my_str = 'Platzi'\n",
    "\n",
    "len(my_str)"
   ]
  },
  {
   "cell_type": "code",
   "execution_count": 46,
   "metadata": {},
   "outputs": [
    {
     "data": {
      "text/plain": [
       "'atzi'"
      ]
     },
     "execution_count": 46,
     "metadata": {},
     "output_type": "execute_result"
    }
   ],
   "source": [
    "my_str[2:]"
   ]
  },
  {
   "cell_type": "code",
   "execution_count": 47,
   "metadata": {},
   "outputs": [
    {
     "data": {
      "text/plain": [
       "'Pla'"
      ]
     },
     "execution_count": 47,
     "metadata": {},
     "output_type": "execute_result"
    }
   ],
   "source": [
    "my_str[:3]"
   ]
  },
  {
   "cell_type": "code",
   "execution_count": 48,
   "metadata": {},
   "outputs": [
    {
     "data": {
      "text/plain": [
       "'Plat'"
      ]
     },
     "execution_count": 48,
     "metadata": {},
     "output_type": "execute_result"
    }
   ],
   "source": [
    "my_str[:-2]"
   ]
  },
  {
   "cell_type": "code",
   "execution_count": 49,
   "metadata": {},
   "outputs": [
    {
     "data": {
      "text/plain": [
       "'Paz'"
      ]
     },
     "execution_count": 49,
     "metadata": {},
     "output_type": "execute_result"
    }
   ],
   "source": [
    "my_str[::2]"
   ]
  },
  {
   "cell_type": "code",
   "execution_count": 50,
   "metadata": {},
   "outputs": [
    {
     "data": {
      "text/plain": [
       "'yo amo a Platzi'"
      ]
     },
     "execution_count": 50,
     "metadata": {},
     "output_type": "execute_result"
    }
   ],
   "source": [
    "f\"yo amo a {my_str}\""
   ]
  },
  {
   "cell_type": "code",
   "execution_count": 51,
   "metadata": {},
   "outputs": [
    {
     "data": {
      "text/plain": [
       "'yo amo a Platziyo amo a Platziyo amo a Platziyo amo a Platziyo amo a Platziyo amo a Platziyo amo a Platziyo amo a Platziyo amo a Platziyo amo a Platziyo amo a Platziyo amo a Platziyo amo a Platziyo amo a Platziyo amo a Platziyo amo a Platziyo amo a Platziyo amo a Platziyo amo a Platziyo amo a Platziyo amo a Platziyo amo a Platziyo amo a Platziyo amo a Platziyo amo a Platziyo amo a Platziyo amo a Platziyo amo a Platziyo amo a Platziyo amo a Platziyo amo a Platziyo amo a Platziyo amo a Platziyo amo a Platziyo amo a Platziyo amo a Platziyo amo a Platziyo amo a Platziyo amo a Platziyo amo a Platziyo amo a Platziyo amo a Platziyo amo a Platziyo amo a Platziyo amo a Platziyo amo a Platziyo amo a Platziyo amo a Platziyo amo a Platziyo amo a Platziyo amo a Platziyo amo a Platziyo amo a Platziyo amo a Platziyo amo a Platziyo amo a Platziyo amo a Platziyo amo a Platziyo amo a Platziyo amo a Platziyo amo a Platziyo amo a Platziyo amo a Platziyo amo a Platziyo amo a Platziyo amo a Platziyo amo a Platziyo amo a Platziyo amo a Platziyo amo a Platziyo amo a Platziyo amo a Platziyo amo a Platziyo amo a Platziyo amo a Platziyo amo a Platziyo amo a Platziyo amo a Platziyo amo a Platziyo amo a Platziyo amo a Platziyo amo a Platziyo amo a Platziyo amo a Platziyo amo a Platziyo amo a Platziyo amo a Platziyo amo a Platziyo amo a Platziyo amo a Platziyo amo a Platziyo amo a Platziyo amo a Platziyo amo a Platziyo amo a Platziyo amo a Platziyo amo a Platziyo amo a Platziyo amo a Platziyo amo a Platzi'"
      ]
     },
     "execution_count": 51,
     "metadata": {},
     "output_type": "execute_result"
    }
   ],
   "source": [
    "f\"yo amo a {my_str}\" * 100"
   ]
  }
 ],
 "metadata": {
  "kernelspec": {
   "display_name": "Python 3",
   "language": "python",
   "name": "python3"
  },
  "language_info": {
   "codemirror_mode": {
    "name": "ipython",
    "version": 3
   },
   "file_extension": ".py",
   "mimetype": "text/x-python",
   "name": "python",
   "nbconvert_exporter": "python",
   "pygments_lexer": "ipython3",
   "version": "3.10.0"
  }
 },
 "nbformat": 4,
 "nbformat_minor": 2
}
